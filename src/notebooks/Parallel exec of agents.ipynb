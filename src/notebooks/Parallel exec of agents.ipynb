{
 "cells": [
  {
   "cell_type": "code",
   "execution_count": null,
   "id": "d97e80a8-54b7-4e16-a756-6829584b9209",
   "metadata": {},
   "outputs": [],
   "source": [
    "!pip install langgraph langchain_ollama"
   ]
  },
  {
   "cell_type": "code",
   "execution_count": 1,
   "id": "ee9f350d-4f5a-424d-9390-67e887575cd3",
   "metadata": {},
   "outputs": [],
   "source": [
    "from langgraph.graph import StateGraph, START, END\n",
    "from typing import TypedDict, List\n",
    "from langchain_ollama import ChatOllama"
   ]
  },
  {
   "cell_type": "markdown",
   "id": "e6f2b3ca-f306-4d33-ab6a-f551002d4ee6",
   "metadata": {},
   "source": [
    "## Define the State"
   ]
  },
  {
   "cell_type": "code",
   "execution_count": 2,
   "id": "b09671b4-ac98-401c-9616-6b5d59089f17",
   "metadata": {},
   "outputs": [],
   "source": [
    "class ReviewState(TypedDict):\n",
    "    raw_reviews: List[str]\n",
    "    processed_text: str\n",
    "    summary: str\n",
    "    sentiment: str\n",
    "    final_output: dict"
   ]
  },
  {
   "cell_type": "markdown",
   "id": "2889694e-ca91-4be6-9d28-c02f81ee1665",
   "metadata": {},
   "source": [
    "## Define Large Language Model"
   ]
  },
  {
   "cell_type": "code",
   "execution_count": 3,
   "id": "8f6c4551-19c1-4b1e-acda-92cf8e690e83",
   "metadata": {},
   "outputs": [],
   "source": [
    "llm = ChatOllama(\n",
    "    model=\"gpt-oss:20b\",\n",
    "    validate_model_on_init=True,\n",
    "    temperature=0.3,\n",
    "    num_predict=256,\n",
    ")"
   ]
  },
  {
   "cell_type": "code",
   "execution_count": 4,
   "id": "0edd6709-7e7d-4090-8aac-371fdf12ee0f",
   "metadata": {},
   "outputs": [
    {
     "data": {
      "text/plain": [
       "AIMessage(content='Hello! 👋 How can I assist you today?', additional_kwargs={}, response_metadata={'model': 'gpt-oss:20b', 'created_at': '2025-10-07T09:58:07.076239Z', 'done': True, 'done_reason': 'stop', 'total_duration': 6496048250, 'load_duration': 117963292, 'prompt_eval_count': 68, 'prompt_eval_duration': 4966768625, 'eval_count': 47, 'eval_duration': 1410490834, 'model_name': 'gpt-oss:20b'}, id='run--a65a5e7b-8a25-4753-b702-d4cd2e0b44bb-0', usage_metadata={'input_tokens': 68, 'output_tokens': 47, 'total_tokens': 115})"
      ]
     },
     "execution_count": 4,
     "metadata": {},
     "output_type": "execute_result"
    }
   ],
   "source": [
    "llm.invoke(\"hello\")"
   ]
  },
  {
   "cell_type": "markdown",
   "id": "c3275018-47a7-4822-8b49-4b560bc31c99",
   "metadata": {},
   "source": [
    "## Define nodes"
   ]
  },
  {
   "cell_type": "code",
   "execution_count": 5,
   "id": "55569ff0-1318-4d02-b7a3-d6e8bf23f6fa",
   "metadata": {},
   "outputs": [],
   "source": [
    "def preprocessor_agent(state: ReviewState):\n",
    "    \"\"\"Agent 1: Preprocess the reviews.\"\"\"\n",
    "    print(\"- Preprocessing reviews...\")\n",
    "    text = \"\\n\".join(state[\"raw_reviews\"])\n",
    "    return {\"processed_text\": f\"Customer reviews:\\n{text}\"}\n",
    "\n",
    "def summary_agent(state: ReviewState):\n",
    "    \"\"\"Agent 2: Generate summary.\"\"\"\n",
    "    print(\"- Generating summary...\")\n",
    "    prompt = f\"Summarize these reviews briefly:\\n{state['processed_text']}\\nSummary: \"\n",
    "    response = llm.invoke(prompt)\n",
    "    return {\"summary\": response.content}\n",
    "\n",
    "def sentiment_agent(state: ReviewState):\n",
    "    \"\"\"Agent 3: Perform sentiment analysis.\"\"\"\n",
    "    print(\"- Analyzing sentiment...\")\n",
    "    prompt = f\"Classify overall sentiment to one of these Positive, Negative, Neutral:\\n{state['processed_text']}\\nSentiment: \"\n",
    "    response = llm.invoke(prompt)\n",
    "    return {\"sentiment\": response.content}\n",
    "\n",
    "def output_parser(state: ReviewState):\n",
    "    \"\"\"Final combiner node.\"\"\"\n",
    "    print(\"- Combining outputs...\")\n",
    "    final = {\n",
    "        \"summary\": state[\"summary\"],\n",
    "        \"sentiment\": state[\"sentiment\"]\n",
    "    }\n",
    "    return {\"final_output\": final}"
   ]
  },
  {
   "cell_type": "markdown",
   "id": "c166421b-d8dc-4f57-8953-eae9755bd82c",
   "metadata": {},
   "source": [
    "## Build the graph"
   ]
  },
  {
   "cell_type": "code",
   "execution_count": 6,
   "id": "33e6b743-4ff4-4361-abbb-f68e4b5fa7dc",
   "metadata": {},
   "outputs": [
    {
     "data": {
      "text/plain": [
       "<langgraph.graph.state.StateGraph at 0x144b82890>"
      ]
     },
     "execution_count": 6,
     "metadata": {},
     "output_type": "execute_result"
    }
   ],
   "source": [
    "builder = StateGraph(ReviewState)\n",
    "\n",
    "# Add nodes:\n",
    "builder.add_node(\"preprocessor\", preprocessor_agent)\n",
    "builder.add_node(\"summary\", summary_agent)\n",
    "builder.add_node(\"sentiment\", sentiment_agent)\n",
    "builder.add_node(\"parser\", output_parser)\n",
    "\n",
    "# Flow:\n",
    "# START → preprocessor  \n",
    "builder.add_edge(START, \"preprocessor\")\n",
    "# preprocessor → summary  \n",
    "builder.add_edge(\"preprocessor\", \"summary\")\n",
    "# preprocessor → sentiment  \n",
    "builder.add_edge(\"preprocessor\", \"sentiment\")\n",
    "# summary → parser\n",
    "builder.add_edge(\"summary\", \"parser\")\n",
    "# sentiment → parser  \n",
    "builder.add_edge(\"sentiment\", \"parser\")\n",
    "# parser → END\n",
    "builder.add_edge(\"parser\", END)"
   ]
  },
  {
   "cell_type": "markdown",
   "id": "f6700333-7b13-46c0-95ca-a60c1cafe712",
   "metadata": {},
   "source": [
    "### Compile the graph"
   ]
  },
  {
   "cell_type": "code",
   "execution_count": 7,
   "id": "0743e778-e8d5-422a-97eb-3b81c414110c",
   "metadata": {},
   "outputs": [
    {
     "data": {
      "image/png": "[encoded data removed]",
      "text/plain": [
       "<IPython.core.display.Image object>"
      ]
     },
     "metadata": {},
     "output_type": "display_data"
    }
   ],
   "source": [
    "from IPython.display import Image, display\n",
    "graph = builder.compile()\n",
    "display(Image(graph.get_graph().draw_mermaid_png()))"
   ]
  },
  {
   "cell_type": "markdown",
   "id": "76a13b89-9b2c-4d31-b4d9-8361de7c501d",
   "metadata": {},
   "source": [
    "## Run it"
   ]
  },
  {
   "cell_type": "code",
   "execution_count": 8,
   "id": "48785584-75fb-4e7a-b34a-ed184448d740",
   "metadata": {},
   "outputs": [
    {
     "name": "stdout",
     "output_type": "stream",
     "text": [
      "- Preprocessing reviews...\n",
      "- Analyzing sentiment...\n",
      "- Generating summary...\n",
      "- Combining outputs...\n"
     ]
    }
   ],
   "source": [
    "initial_state = {\n",
    "    \"raw_reviews\": [\n",
    "        \"Battery lasts two days, excellent performance.\",\n",
    "        \"Camera is great but the phone is heavy.\",\n",
    "        \"Very satisfied with the purchase overall.\"\n",
    "    ]\n",
    "}\n",
    "\n",
    "result = graph.invoke(initial_state)"
   ]
  },
  {
   "cell_type": "code",
   "execution_count": 9,
   "id": "4b321c72-0f69-4671-9e80-7a3c85948f71",
   "metadata": {},
   "outputs": [
    {
     "name": "stdout",
     "output_type": "stream",
     "text": [
      "Final structured output: {\n",
      "  \"summary\": \"The phone delivers strong battery life and solid performance, a good camera, though it\\u2019s a bit heavy, and overall users are very satisfied.\",\n",
      "  \"sentiment\": \"Positive\"\n",
      "}\n"
     ]
    }
   ],
   "source": [
    "import json\n",
    "print(\"Final structured output:\", json.dumps(result[\"final_output\"], indent=2))"
   ]
  },
  {
   "cell_type": "code",
   "execution_count": null,
   "id": "acd14fbe-50ed-4f56-b57f-e488a836097e",
   "metadata": {},
   "outputs": [],
   "source": []
  },
  {
   "cell_type": "code",
   "execution_count": null,
   "id": "23088e58-8f03-4a51-963b-7f9c161209fe",
   "metadata": {},
   "outputs": [],
   "source": []
  }
 ],
 "metadata": {
  "kernelspec": {
   "display_name": "Python 3 (ipykernel)",
   "language": "python",
   "name": "python3"
  },
  "language_info": {
   "codemirror_mode": {
    "name": "ipython",
    "version": 3
   },
   "file_extension": ".py",
   "mimetype": "text/x-python",
   "name": "python",
   "nbconvert_exporter": "python",
   "pygments_lexer": "ipython3",
   "version": "3.11.9"
  }
 },
 "nbformat": 4,
 "nbformat_minor": 5
}
