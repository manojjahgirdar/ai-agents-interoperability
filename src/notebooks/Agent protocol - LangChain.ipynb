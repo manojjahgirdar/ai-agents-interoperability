{
 "cells": [
  {
   "cell_type": "code",
   "execution_count": null,
   "id": "2455d905-0fdd-4839-a7e1-2133445a6d3a",
   "metadata": {
    "scrolled": true
   },
   "outputs": [],
   "source": [
    "%%capture --no-stderr\n",
    "%pip install --quiet -U langchain_openai langchain_core langgraph langchain_community tavily-python crewai langchain-cohere"
   ]
  },
  {
   "cell_type": "code",
   "execution_count": 1,
   "id": "f091e707-d68e-4080-8131-adcb98a53e17",
   "metadata": {},
   "outputs": [],
   "source": [
    "# Helper function to set env variables\n",
    "\n",
    "import os, getpass\n",
    "def _set_env(var: str):\n",
    "    if not os.environ.get(var):\n",
    "        os.environ[var] = getpass.getpass(f\"{var}: \")"
   ]
  },
  {
   "cell_type": "code",
   "execution_count": 2,
   "id": "68e1b7c9-dc0e-4884-a954-000ad045ba2f",
   "metadata": {},
   "outputs": [],
   "source": [
    "# OpenAI API Key\n",
    "\n",
    "_set_env(\"OPENAI_API_KEY\")"
   ]
  },
  {
   "cell_type": "code",
   "execution_count": 3,
   "id": "a4f08aaf-63df-4034-a18a-eade98785749",
   "metadata": {},
   "outputs": [],
   "source": [
    "# Tavily Search API Key\n",
    "\n",
    "_set_env(\"TAVILY_API_KEY\")"
   ]
  },
  {
   "cell_type": "code",
   "execution_count": 4,
   "id": "fb05dc8b-a003-4eaf-b5ae-528977524cbd",
   "metadata": {},
   "outputs": [],
   "source": [
    "# (Optional) Langgraph tracability\n",
    "\n",
    "_set_env(\"LANGCHAIN_API_KEY\")\n",
    "os.environ[\"LANGCHAIN_TRACING_V2\"] = \"true\"\n",
    "os.environ[\"LANGCHAIN_PROJECT\"] = \"agents-interoperability\""
   ]
  },
  {
   "cell_type": "code",
   "execution_count": 5,
   "id": "a480f509-6523-4779-b8b5-440d56a81400",
   "metadata": {},
   "outputs": [],
   "source": [
    "from langchain_openai import ChatOpenAI\n",
    "llm = ChatOpenAI(model=\"gpt-4o\")"
   ]
  },
  {
   "cell_type": "code",
   "execution_count": 6,
   "id": "bda346b0-46e5-4223-a9ba-6c0cd27b0990",
   "metadata": {},
   "outputs": [],
   "source": [
    "from langchain_openai import OpenAI\n",
    "openai_llm = OpenAI(model=\"gpt-4-turbo\", temperature=0.7)"
   ]
  },
  {
   "cell_type": "code",
   "execution_count": 7,
   "id": "2cc4e292-48d9-4926-ba62-66a4d66fc422",
   "metadata": {},
   "outputs": [],
   "source": [
    "import sqlite3\n",
    "import requests\n",
    "from langchain_community.utilities.sql_database import SQLDatabase\n",
    "from sqlalchemy import create_engine\n",
    "from sqlalchemy.pool import StaticPool\n",
    "from langchain_community.agent_toolkits.sql.toolkit import SQLDatabaseToolkit\n",
    "\n",
    "def get_engine_db():\n",
    "    \"\"\"Create engine.\"\"\"\n",
    "    \n",
    "    connection = sqlite3.connect(\"db/portfolio.db\", check_same_thread=False)\n",
    "    \n",
    "    return create_engine(\n",
    "        \"sqlite://\",\n",
    "        creator=lambda: connection,\n",
    "        poolclass=StaticPool,\n",
    "        connect_args={\"check_same_thread\": False},\n",
    "    )\n",
    "engine = get_engine_db()\n",
    "db = SQLDatabase(engine)\n",
    "toolkit = SQLDatabaseToolkit(db=db, llm=llm)\n",
    "db_tools = toolkit.get_tools() # This will be all the SQL tools"
   ]
  },
  {
   "cell_type": "code",
   "execution_count": 8,
   "id": "501afd3d-d0cc-4f37-afbb-0366fcde4dd8",
   "metadata": {},
   "outputs": [],
   "source": [
    "from tavily import TavilyClient\n",
    "from crewai.tools import tool\n",
    "\n",
    "@tool(\"TavilySearchTool\")\n",
    "def TavilySearchTool(query: str) -> dict:\n",
    "    \"\"\"\n",
    "    Search the web for relevant information using Tavily Search.\n",
    "    Args:\n",
    "        query (str): The search query string.\n",
    "    Returns:\n",
    "        dict: A dictionary of search results obtained from Tavily search.\n",
    "    \"\"\"\n",
    "    \n",
    "    tavily_client = TavilyClient()\n",
    "    response = tavily_client.search(query=query, max_results=1, include_answer=True)\n",
    "    return response\n",
    "\n",
    "web_search_tools = [TavilySearchTool] # This will be the web search tools"
   ]
  },
  {
   "cell_type": "code",
   "execution_count": 9,
   "id": "59c2f06c-38eb-4c8e-9eb7-3c16a34dce8f",
   "metadata": {},
   "outputs": [],
   "source": [
    "from langgraph.prebuilt import create_react_agent\n",
    "\n",
    "prompt_template = \"\"\"You are an agent designed to interact with a SQL database.\n",
    "Given an input question, create a syntactically correct {dialect} query to run, then look at the results of the query and return the answer.\n",
    "Unless the user specifies a specific number of examples they wish to obtain, always limit your query to at most {top_k} results.\n",
    "You can order the results by a relevant column to return the most interesting examples in the database.\n",
    "Never query for all the columns from a specific table, only ask for the relevant columns given the question.\n",
    "You have access to tools for interacting with the database.\n",
    "Only use the below tools. Only use the information returned by the below tools to construct your final answer.\n",
    "You MUST double check your query before executing it. If you get an error while executing a query, rewrite the query and try again.\n",
    "DO NOT make any DML statements (INSERT, UPDATE, DELETE, DROP etc.) to the database.\n",
    "To start you should ALWAYS look at the tables in the database to see what you can query.\n",
    "Do NOT skip this step.\n",
    "Then you should query the schema of the most relevant tables.\"\"\"\n",
    "\n",
    "prompt = prompt_template.format(dialect=\"SQLite\", top_k=5)\n",
    "\n",
    "sql_agent = create_react_agent(\n",
    "    llm,\n",
    "    tools=db_tools,\n",
    "    prompt=prompt\n",
    ")"
   ]
  },
  {
   "cell_type": "code",
   "execution_count": 10,
   "id": "7528620e-0a05-46f1-83dd-5d6632adedb3",
   "metadata": {},
   "outputs": [],
   "source": [
    "from crewai import Agent, Task, Crew, Process\n",
    "\n",
    "financial_advisor = Agent(\n",
    "    role=\"FINRA-Approved Financial Analyst\",\n",
    "    goal=\"Analyze a given security and provide insights on its market trends, sector performance, and key competitors.\",\n",
    "    backstory=\"An AI-powered financial analyst with deep expertise in global markets, providing accurate and timely insights.\",\n",
    "    verbose=True,\n",
    "    tools=web_search_tools,\n",
    "    llm=openai_llm\n",
    ")\n",
    "financial_analysis_task = Task(\n",
    "    description=(\n",
    "        \"Search the web for the latest news and performance metrics on {query}. \"\n",
    "        \"Summarize its recent trends, sector performance, key competitors, and overall market sentiment.\"\n",
    "    ),\n",
    "    expected_output=(\n",
    "        \"A summary including: \\n\"\n",
    "        \"- Latest market trends for {query}\\n\"\n",
    "        \"- Sector performance\\n\"\n",
    "        \"- Competitor analysis\\n\"\n",
    "        \"- Buy/sell sentiment based on recent news\"\n",
    "    ),\n",
    "    tools=web_search_tools,\n",
    "    agent=financial_advisor\n",
    ")\n",
    "crew = Crew(\n",
    "    agents=[financial_advisor],\n",
    "    tasks=[financial_analysis_task],\n",
    "    process=Process.sequential\n",
    ")"
   ]
  },
  {
   "cell_type": "code",
   "execution_count": 11,
   "id": "abc3ab80-dffe-4270-bfdc-4d6699699617",
   "metadata": {},
   "outputs": [],
   "source": [
    "from typing import List, Optional, Literal\n",
    "from langchain_core.language_models.chat_models import BaseChatModel\n",
    "from typing_extensions import TypedDict\n",
    "from langgraph.graph import StateGraph, MessagesState, START, END\n",
    "from langgraph.types import Command\n",
    "from langchain_core.messages import HumanMessage, trim_messages\n",
    "from langgraph.checkpoint.memory import MemorySaver\n",
    "\n",
    "class State(MessagesState):\n",
    "    next: str"
   ]
  },
  {
   "cell_type": "code",
   "execution_count": 12,
   "id": "d724f392-cc03-46e5-a6c9-691d3d3534de",
   "metadata": {},
   "outputs": [],
   "source": [
    "def make_supervisor_node(llm: BaseChatModel, members: list[str]) -> str:\n",
    "    options = [\"FINISH\"] + members\n",
    "    system_prompt = (\n",
    "        \"You are a supervisor tasked with managing a conversation between the\"\n",
    "        f\" following workers: {members}. Given the following user request,\"\n",
    "        \" respond with the worker to act next. Each worker will perform a\"\n",
    "        \" task and respond with their results and status. When finished,\"\n",
    "        \" respond with FINISH.\"\n",
    "    )\n",
    "\n",
    "    class Router(TypedDict):\n",
    "        \"\"\"Worker to route to next. If no workers needed, route to FINISH.\"\"\"\n",
    "\n",
    "        next: Literal[*options]\n",
    "\n",
    "    def supervisor_node(state: State) -> Command[Literal[*members, \"__end__\"]]:\n",
    "        \"\"\"An LLM-based router.\"\"\"\n",
    "        messages = [\n",
    "            {\"role\": \"system\", \"content\": system_prompt},\n",
    "        ] + state[\"messages\"]\n",
    "        response = llm.with_structured_output(Router).invoke(messages)\n",
    "        goto = response[\"next\"]\n",
    "        if goto == \"FINISH\":\n",
    "            goto = END\n",
    "\n",
    "        return Command(goto=goto, update={\"next\": goto})\n",
    "\n",
    "    return supervisor_node"
   ]
  },
  {
   "cell_type": "code",
   "execution_count": 13,
   "id": "70bdbe01-8373-4673-aeae-a9b31bac224e",
   "metadata": {},
   "outputs": [],
   "source": [
    "def database_query_node(state: State) -> Command[Literal[\"supervisor\"]]:\n",
    "    result = sql_agent.invoke(state)\n",
    "    return Command(\n",
    "        update={\n",
    "            \"messages\": [\n",
    "                HumanMessage(content=result[\"messages\"][-1].content, name=\"db_query\")\n",
    "            ]\n",
    "        },\n",
    "        # We want our workers to ALWAYS \"report back\" to the supervisor when done\n",
    "        goto=\"supervisor\",\n",
    "    )"
   ]
  },
  {
   "cell_type": "code",
   "execution_count": 14,
   "id": "423dc576-ffd9-4c92-bc62-1565a6371adf",
   "metadata": {},
   "outputs": [],
   "source": [
    "from langchain_core.messages import convert_to_openai_messages\n",
    "\n",
    "def web_search_node(state: State) -> Command[Literal[\"supervisor\"]]:\n",
    "    messages = convert_to_openai_messages(state[\"messages\"])\n",
    "    result = crew.kickoff(inputs={\"query\": messages[-1]['content']})\n",
    "    return Command(\n",
    "        update={\n",
    "            \"messages\": [\n",
    "                HumanMessage(content=result.raw, name=\"web_search\")\n",
    "            ]\n",
    "        },\n",
    "        # We want our workers to ALWAYS \"report back\" to the supervisor when done\n",
    "        goto=\"supervisor\",\n",
    "    )"
   ]
  },
  {
   "cell_type": "code",
   "execution_count": 15,
   "id": "7e5f619b-3544-4293-8abd-04cdee62b798",
   "metadata": {},
   "outputs": [],
   "source": [
    "supervisor_node = make_supervisor_node(llm, [\"db_query\", \"web_search\"])"
   ]
  },
  {
   "cell_type": "code",
   "execution_count": 16,
   "id": "cffd1390-af60-40da-b938-3954dd84b51b",
   "metadata": {},
   "outputs": [],
   "source": [
    "builder = StateGraph(State)\n",
    "builder.add_node(\"supervisor\", supervisor_node)\n",
    "builder.add_node(\"db_query\", database_query_node)\n",
    "builder.add_node(\"web_search\", web_search_node)\n",
    "builder.add_edge(START, \"supervisor\")\n",
    "memory = MemorySaver()\n",
    "react_graph = builder.compile(checkpointer=memory)"
   ]
  },
  {
   "cell_type": "code",
   "execution_count": 17,
   "id": "671c4117-7415-43fb-8d6e-c4fb11bba6b3",
   "metadata": {},
   "outputs": [
    {
     "data": {
      "image/png": "[encoded data removed]",
      "text/plain": [
       "<IPython.core.display.Image object>"
      ]
     },
     "metadata": {},
     "output_type": "display_data"
    }
   ],
   "source": [
    "from IPython.display import Image, display\n",
    "display(Image(react_graph.get_graph().draw_mermaid_png()))"
   ]
  },
  {
   "cell_type": "code",
   "execution_count": 18,
   "id": "cdd53172-5abe-4def-8457-471d1fb148cf",
   "metadata": {},
   "outputs": [],
   "source": [
    "config = {\"configurable\": {\"thread_id\": \"1\", \"recursion_limit\": 50}}"
   ]
  },
  {
   "cell_type": "code",
   "execution_count": 19,
   "id": "8104e2e8-4d51-4d0f-9f1a-7f4bdb85df50",
   "metadata": {
    "scrolled": true
   },
   "outputs": [
    {
     "name": "stdout",
     "output_type": "stream",
     "text": [
      "================================\u001b[1m Human Message \u001b[0m=================================\n",
      "\n",
      "What are the security holdings of John Doe?\n",
      "================================\u001b[1m Human Message \u001b[0m=================================\n",
      "\n",
      "What are the security holdings of John Doe?\n",
      "================================\u001b[1m Human Message \u001b[0m=================================\n",
      "Name: db_query\n",
      "\n",
      "John Doe holds the following securities:\n",
      "\n",
      "1. **S&P 500**\n",
      "   - Market Value: $8,500,000 USD\n",
      "   - Industry: Index Fund\n",
      "\n",
      "2. **MSCI AC World**\n",
      "   - Market Value: $6,000,000 USD\n",
      "   - Industry: Index Fund\n",
      "\n",
      "3. **TOPIX**\n",
      "   - Market Value: $4,200,000 USD\n",
      "   - Industry: Index Fund\n",
      "\n",
      "4. **MSCI AP ex-Japan**\n",
      "   - Market Value: $5,700,000 USD\n",
      "   - Industry: Index Fund\n",
      "\n",
      "5. **STOXX 600**\n",
      "   - Market Value: $3,500,000 USD\n",
      "   - Industry: Index Fund\n",
      "================================\u001b[1m Human Message \u001b[0m=================================\n",
      "Name: db_query\n",
      "\n",
      "John Doe holds the following securities:\n",
      "\n",
      "1. **S&P 500**\n",
      "   - Market Value: $8,500,000 USD\n",
      "   - Industry: Index Fund\n",
      "\n",
      "2. **MSCI AC World**\n",
      "   - Market Value: $6,000,000 USD\n",
      "   - Industry: Index Fund\n",
      "\n",
      "3. **TOPIX**\n",
      "   - Market Value: $4,200,000 USD\n",
      "   - Industry: Index Fund\n",
      "\n",
      "4. **MSCI AP ex-Japan**\n",
      "   - Market Value: $5,700,000 USD\n",
      "   - Industry: Index Fund\n",
      "\n",
      "5. **STOXX 600**\n",
      "   - Market Value: $3,500,000 USD\n",
      "   - Industry: Index Fund\n"
     ]
    }
   ],
   "source": [
    "query = \"What are the security holdings of John Doe?\"\n",
    "events = react_graph.stream(\n",
    "    {\"messages\": [(\"user\", query)]},\n",
    "    config,\n",
    "    stream_mode=\"values\",\n",
    ")\n",
    "for event in events:\n",
    "    event[\"messages\"][-1].pretty_print()"
   ]
  },
  {
   "cell_type": "code",
   "execution_count": 20,
   "id": "010b087f-7d37-44da-b237-de01c1beff09",
   "metadata": {},
   "outputs": [
    {
     "name": "stdout",
     "output_type": "stream",
     "text": [
      "================================\u001b[1m Human Message \u001b[0m=================================\n",
      "\n",
      "How is S&P 500 performing can you give me a summary?\n",
      "================================\u001b[1m Human Message \u001b[0m=================================\n",
      "\n",
      "How is S&P 500 performing can you give me a summary?\n"
     ]
    },
    {
     "data": {
      "text/html": [
       "<pre style=\"white-space:pre;overflow-x:auto;line-height:normal;font-family:Menlo,'DejaVu Sans Mono',consolas,'Courier New',monospace\"><span style=\"color: #800080; text-decoration-color: #800080\">╭─────────────────────────────────────────────── 🤖 Agent Started ────────────────────────────────────────────────╮</span>\n",
       "<span style=\"color: #800080; text-decoration-color: #800080\">│</span>                                                                                                                 <span style=\"color: #800080; text-decoration-color: #800080\">│</span>\n",
       "<span style=\"color: #800080; text-decoration-color: #800080\">│</span>  <span style=\"color: #c0c0c0; text-decoration-color: #c0c0c0\">Agent: </span><span style=\"color: #00ff00; text-decoration-color: #00ff00; font-weight: bold\">FINRA-Approved Financial Analyst</span>                                                                        <span style=\"color: #800080; text-decoration-color: #800080\">│</span>\n",
       "<span style=\"color: #800080; text-decoration-color: #800080\">│</span>                                                                                                                 <span style=\"color: #800080; text-decoration-color: #800080\">│</span>\n",
       "<span style=\"color: #800080; text-decoration-color: #800080\">│</span>  <span style=\"color: #c0c0c0; text-decoration-color: #c0c0c0\">Task: </span><span style=\"color: #00ff00; text-decoration-color: #00ff00\">Search the web for the latest news and performance metrics on How is S&amp;P 500 performing can you give me</span>  <span style=\"color: #800080; text-decoration-color: #800080\">│</span>\n",
       "<span style=\"color: #800080; text-decoration-color: #800080\">│</span>  <span style=\"color: #00ff00; text-decoration-color: #00ff00\">a summary?. Summarize its recent trends, sector performance, key competitors, and overall market sentiment.</span>    <span style=\"color: #800080; text-decoration-color: #800080\">│</span>\n",
       "<span style=\"color: #800080; text-decoration-color: #800080\">│</span>                                                                                                                 <span style=\"color: #800080; text-decoration-color: #800080\">│</span>\n",
       "<span style=\"color: #800080; text-decoration-color: #800080\">╰─────────────────────────────────────────────────────────────────────────────────────────────────────────────────╯</span>\n",
       "</pre>\n"
      ],
      "text/plain": [
       "\u001b[35m╭─\u001b[0m\u001b[35m──────────────────────────────────────────────\u001b[0m\u001b[35m 🤖 Agent Started \u001b[0m\u001b[35m───────────────────────────────────────────────\u001b[0m\u001b[35m─╮\u001b[0m\n",
       "\u001b[35m│\u001b[0m                                                                                                                 \u001b[35m│\u001b[0m\n",
       "\u001b[35m│\u001b[0m  \u001b[37mAgent: \u001b[0m\u001b[1;92mFINRA-Approved Financial Analyst\u001b[0m                                                                        \u001b[35m│\u001b[0m\n",
       "\u001b[35m│\u001b[0m                                                                                                                 \u001b[35m│\u001b[0m\n",
       "\u001b[35m│\u001b[0m  \u001b[37mTask: \u001b[0m\u001b[92mSearch the web for the latest news and performance metrics on How is S&P 500 performing can you give me\u001b[0m  \u001b[35m│\u001b[0m\n",
       "\u001b[35m│\u001b[0m  \u001b[92ma summary?. Summarize its recent trends, sector performance, key competitors, and overall market sentiment.\u001b[0m    \u001b[35m│\u001b[0m\n",
       "\u001b[35m│\u001b[0m                                                                                                                 \u001b[35m│\u001b[0m\n",
       "\u001b[35m╰─────────────────────────────────────────────────────────────────────────────────────────────────────────────────╯\u001b[0m\n"
      ]
     },
     "metadata": {},
     "output_type": "display_data"
    },
    {
     "data": {
      "text/html": [
       "<pre style=\"white-space:pre;overflow-x:auto;line-height:normal;font-family:Menlo,'DejaVu Sans Mono',consolas,'Courier New',monospace\">\n",
       "</pre>\n"
      ],
      "text/plain": [
       "\n"
      ]
     },
     "metadata": {},
     "output_type": "display_data"
    },
    {
     "data": {
      "text/html": [
       "<pre style=\"white-space:pre;overflow-x:auto;line-height:normal;font-family:Menlo,'DejaVu Sans Mono',consolas,'Courier New',monospace\"><span style=\"color: #800080; text-decoration-color: #800080\">╭──────────────────────────────────────────── 🔧 Agent Tool Execution ────────────────────────────────────────────╮</span>\n",
       "<span style=\"color: #800080; text-decoration-color: #800080\">│</span>                                                                                                                 <span style=\"color: #800080; text-decoration-color: #800080\">│</span>\n",
       "<span style=\"color: #800080; text-decoration-color: #800080\">│</span>  <span style=\"color: #c0c0c0; text-decoration-color: #c0c0c0\">Agent: </span><span style=\"color: #00ff00; text-decoration-color: #00ff00; font-weight: bold\">FINRA-Approved Financial Analyst</span>                                                                        <span style=\"color: #800080; text-decoration-color: #800080\">│</span>\n",
       "<span style=\"color: #800080; text-decoration-color: #800080\">│</span>                                                                                                                 <span style=\"color: #800080; text-decoration-color: #800080\">│</span>\n",
       "<span style=\"color: #800080; text-decoration-color: #800080\">│</span>  <span style=\"color: #c0c0c0; text-decoration-color: #c0c0c0\">Thought: </span><span style=\"color: #00ff00; text-decoration-color: #00ff00\">I need to gather the latest information on the S&amp;P 500's performance, including market trends, </span>       <span style=\"color: #800080; text-decoration-color: #800080\">│</span>\n",
       "<span style=\"color: #800080; text-decoration-color: #800080\">│</span>  <span style=\"color: #00ff00; text-decoration-color: #00ff00\">sector performance, competitor analysis, and the overall market sentiment.</span>                                     <span style=\"color: #800080; text-decoration-color: #800080\">│</span>\n",
       "<span style=\"color: #800080; text-decoration-color: #800080\">│</span>                                                                                                                 <span style=\"color: #800080; text-decoration-color: #800080\">│</span>\n",
       "<span style=\"color: #800080; text-decoration-color: #800080\">│</span>  <span style=\"color: #c0c0c0; text-decoration-color: #c0c0c0\">Using Tool: </span><span style=\"color: #00ff00; text-decoration-color: #00ff00; font-weight: bold\">TavilySearchTool</span>                                                                                   <span style=\"color: #800080; text-decoration-color: #800080\">│</span>\n",
       "<span style=\"color: #800080; text-decoration-color: #800080\">│</span>                                                                                                                 <span style=\"color: #800080; text-decoration-color: #800080\">│</span>\n",
       "<span style=\"color: #800080; text-decoration-color: #800080\">╰─────────────────────────────────────────────────────────────────────────────────────────────────────────────────╯</span>\n",
       "</pre>\n"
      ],
      "text/plain": [
       "\u001b[35m╭─\u001b[0m\u001b[35m───────────────────────────────────────────\u001b[0m\u001b[35m 🔧 Agent Tool Execution \u001b[0m\u001b[35m───────────────────────────────────────────\u001b[0m\u001b[35m─╮\u001b[0m\n",
       "\u001b[35m│\u001b[0m                                                                                                                 \u001b[35m│\u001b[0m\n",
       "\u001b[35m│\u001b[0m  \u001b[37mAgent: \u001b[0m\u001b[1;92mFINRA-Approved Financial Analyst\u001b[0m                                                                        \u001b[35m│\u001b[0m\n",
       "\u001b[35m│\u001b[0m                                                                                                                 \u001b[35m│\u001b[0m\n",
       "\u001b[35m│\u001b[0m  \u001b[37mThought: \u001b[0m\u001b[92mI need to gather the latest information on the S&P 500's performance, including market trends, \u001b[0m       \u001b[35m│\u001b[0m\n",
       "\u001b[35m│\u001b[0m  \u001b[92msector performance, competitor analysis, and the overall market sentiment.\u001b[0m                                     \u001b[35m│\u001b[0m\n",
       "\u001b[35m│\u001b[0m                                                                                                                 \u001b[35m│\u001b[0m\n",
       "\u001b[35m│\u001b[0m  \u001b[37mUsing Tool: \u001b[0m\u001b[1;92mTavilySearchTool\u001b[0m                                                                                   \u001b[35m│\u001b[0m\n",
       "\u001b[35m│\u001b[0m                                                                                                                 \u001b[35m│\u001b[0m\n",
       "\u001b[35m╰─────────────────────────────────────────────────────────────────────────────────────────────────────────────────╯\u001b[0m\n"
      ]
     },
     "metadata": {},
     "output_type": "display_data"
    },
    {
     "data": {
      "text/html": [
       "<pre style=\"white-space:pre;overflow-x:auto;line-height:normal;font-family:Menlo,'DejaVu Sans Mono',consolas,'Courier New',monospace\"><span style=\"color: #000080; text-decoration-color: #000080\">╭────────────────────────────────────────────────── Tool Input ───────────────────────────────────────────────────╮</span>\n",
       "<span style=\"color: #000080; text-decoration-color: #000080\">│</span>                                                                                                                 <span style=\"color: #000080; text-decoration-color: #000080\">│</span>\n",
       "<span style=\"color: #000080; text-decoration-color: #000080\">│</span>  <span style=\"color: #e6db74; text-decoration-color: #e6db74; background-color: #ffffff\">\"{\\\"query\\\": \\\"S&amp;P 500 recent performance 2023\\\"}\"</span>                                                             <span style=\"color: #000080; text-decoration-color: #000080\">│</span>\n",
       "<span style=\"color: #000080; text-decoration-color: #000080\">│</span>                                                                                                                 <span style=\"color: #000080; text-decoration-color: #000080\">│</span>\n",
       "<span style=\"color: #000080; text-decoration-color: #000080\">╰─────────────────────────────────────────────────────────────────────────────────────────────────────────────────╯</span>\n",
       "</pre>\n"
      ],
      "text/plain": [
       "\u001b[34m╭─\u001b[0m\u001b[34m─────────────────────────────────────────────────\u001b[0m\u001b[34m Tool Input \u001b[0m\u001b[34m──────────────────────────────────────────────────\u001b[0m\u001b[34m─╮\u001b[0m\n",
       "\u001b[34m│\u001b[0m                                                                                                                 \u001b[34m│\u001b[0m\n",
       "\u001b[34m│\u001b[0m  \u001b[38;2;230;219;116;49m\"{\\\"query\\\": \\\"S&P 500 recent performance 2023\\\"}\"\u001b[0m                                                             \u001b[34m│\u001b[0m\n",
       "\u001b[34m│\u001b[0m                                                                                                                 \u001b[34m│\u001b[0m\n",
       "\u001b[34m╰─────────────────────────────────────────────────────────────────────────────────────────────────────────────────╯\u001b[0m\n"
      ]
     },
     "metadata": {},
     "output_type": "display_data"
    },
    {
     "data": {
      "text/html": [
       "<pre style=\"white-space:pre;overflow-x:auto;line-height:normal;font-family:Menlo,'DejaVu Sans Mono',consolas,'Courier New',monospace\"><span style=\"color: #008000; text-decoration-color: #008000\">╭────────────────────────────────────────────────── Tool Output ──────────────────────────────────────────────────╮</span>\n",
       "<span style=\"color: #008000; text-decoration-color: #008000\">│</span>                                                                                                                 <span style=\"color: #008000; text-decoration-color: #008000\">│</span>\n",
       "<span style=\"color: #008000; text-decoration-color: #008000\">│</span>  <span style=\"color: #00ff00; text-decoration-color: #00ff00\">{'query': 'S&amp;P 500 recent performance 2023', 'follow_up_questions': None, 'answer': \"The S&amp;P 500 had a 24.23%</span>  <span style=\"color: #008000; text-decoration-color: #008000\">│</span>\n",
       "<span style=\"color: #008000; text-decoration-color: #008000\">│</span>  <span style=\"color: #00ff00; text-decoration-color: #00ff00\">increase in 2023. This followed a 19.44% decline in 2022. The index's performance in 2024 is not available.\",</span>  <span style=\"color: #008000; text-decoration-color: #008000\">│</span>\n",
       "<span style=\"color: #008000; text-decoration-color: #008000\">│</span>  <span style=\"color: #00ff00; text-decoration-color: #00ff00\">'images': [], 'results': [{'url': 'https://www.macrotrends.net/2526/sp-500-historical-annual-returns', </span>        <span style=\"color: #008000; text-decoration-color: #008000\">│</span>\n",
       "<span style=\"color: #008000; text-decoration-color: #008000\">│</span>  <span style=\"color: #00ff00; text-decoration-color: #00ff00\">'title': 'S&amp;P 500 Historical Annual Returns (1927-2025) - Macrotrends', 'content': 'Chart ; 2023-12-31, </span>       <span style=\"color: #008000; text-decoration-color: #008000\">│</span>\n",
       "<span style=\"color: #008000; text-decoration-color: #008000\">│</span>  <span style=\"color: #00ff00; text-decoration-color: #00ff00\">24.23% ; 2022-12-31, -19.44% ; 2021-12-31, 26.89% ; 2020-12-31, 16.26%.', 'score': 0.72418857, 'raw_content':</span>  <span style=\"color: #008000; text-decoration-color: #008000\">│</span>\n",
       "<span style=\"color: #008000; text-decoration-color: #008000\">│</span>  <span style=\"color: #00ff00; text-decoration-color: #00ff00\">None}], 'response_time': 6.47}</span>                                                                                 <span style=\"color: #008000; text-decoration-color: #008000\">│</span>\n",
       "<span style=\"color: #008000; text-decoration-color: #008000\">│</span>                                                                                                                 <span style=\"color: #008000; text-decoration-color: #008000\">│</span>\n",
       "<span style=\"color: #008000; text-decoration-color: #008000\">╰─────────────────────────────────────────────────────────────────────────────────────────────────────────────────╯</span>\n",
       "</pre>\n"
      ],
      "text/plain": [
       "\u001b[32m╭─\u001b[0m\u001b[32m─────────────────────────────────────────────────\u001b[0m\u001b[32m Tool Output \u001b[0m\u001b[32m─────────────────────────────────────────────────\u001b[0m\u001b[32m─╮\u001b[0m\n",
       "\u001b[32m│\u001b[0m                                                                                                                 \u001b[32m│\u001b[0m\n",
       "\u001b[32m│\u001b[0m  \u001b[92m{'query': 'S&P 500 recent performance 2023', 'follow_up_questions': None, 'answer': \"The S&P 500 had a 24.23%\u001b[0m  \u001b[32m│\u001b[0m\n",
       "\u001b[32m│\u001b[0m  \u001b[92mincrease in 2023. This followed a 19.44% decline in 2022. The index's performance in 2024 is not available.\",\u001b[0m  \u001b[32m│\u001b[0m\n",
       "\u001b[32m│\u001b[0m  \u001b[92m'images': [], 'results': [{'url': 'https://www.macrotrends.net/2526/sp-500-historical-annual-returns', \u001b[0m        \u001b[32m│\u001b[0m\n",
       "\u001b[32m│\u001b[0m  \u001b[92m'title': 'S&P 500 Historical Annual Returns (1927-2025) - Macrotrends', 'content': 'Chart ; 2023-12-31, \u001b[0m       \u001b[32m│\u001b[0m\n",
       "\u001b[32m│\u001b[0m  \u001b[92m24.23% ; 2022-12-31, -19.44% ; 2021-12-31, 26.89% ; 2020-12-31, 16.26%.', 'score': 0.72418857, 'raw_content':\u001b[0m  \u001b[32m│\u001b[0m\n",
       "\u001b[32m│\u001b[0m  \u001b[92mNone}], 'response_time': 6.47}\u001b[0m                                                                                 \u001b[32m│\u001b[0m\n",
       "\u001b[32m│\u001b[0m                                                                                                                 \u001b[32m│\u001b[0m\n",
       "\u001b[32m╰─────────────────────────────────────────────────────────────────────────────────────────────────────────────────╯\u001b[0m\n"
      ]
     },
     "metadata": {},
     "output_type": "display_data"
    },
    {
     "data": {
      "text/html": [
       "<pre style=\"white-space:pre;overflow-x:auto;line-height:normal;font-family:Menlo,'DejaVu Sans Mono',consolas,'Courier New',monospace\">\n",
       "</pre>\n"
      ],
      "text/plain": [
       "\n"
      ]
     },
     "metadata": {},
     "output_type": "display_data"
    },
    {
     "data": {
      "text/html": [
       "<pre style=\"white-space:pre;overflow-x:auto;line-height:normal;font-family:Menlo,'DejaVu Sans Mono',consolas,'Courier New',monospace\"><span style=\"color: #008000; text-decoration-color: #008000\">╭───────────────────────────────────────────── ✅ Agent Final Answer ─────────────────────────────────────────────╮</span>\n",
       "<span style=\"color: #008000; text-decoration-color: #008000\">│</span>                                                                                                                 <span style=\"color: #008000; text-decoration-color: #008000\">│</span>\n",
       "<span style=\"color: #008000; text-decoration-color: #008000\">│</span>  <span style=\"color: #c0c0c0; text-decoration-color: #c0c0c0\">Agent: </span><span style=\"color: #00ff00; text-decoration-color: #00ff00; font-weight: bold\">FINRA-Approved Financial Analyst</span>                                                                        <span style=\"color: #008000; text-decoration-color: #008000\">│</span>\n",
       "<span style=\"color: #008000; text-decoration-color: #008000\">│</span>                                                                                                                 <span style=\"color: #008000; text-decoration-color: #008000\">│</span>\n",
       "<span style=\"color: #008000; text-decoration-color: #008000\">│</span>  <span style=\"color: #c0c0c0; text-decoration-color: #c0c0c0\">Final Answer:</span>                                                                                                  <span style=\"color: #008000; text-decoration-color: #008000\">│</span>\n",
       "<span style=\"color: #008000; text-decoration-color: #008000\">│</span>  <span style=\"color: #00ff00; text-decoration-color: #00ff00\">The S&amp;P 500 experienced a significant rebound in 2023, with an increase of 24.23%. This performance was a </span>     <span style=\"color: #008000; text-decoration-color: #008000\">│</span>\n",
       "<span style=\"color: #008000; text-decoration-color: #008000\">│</span>  <span style=\"color: #00ff00; text-decoration-color: #00ff00\">recovery from a decline of 19.44% in 2022. The robust growth in 2023 reflects a positive shift in market </span>      <span style=\"color: #008000; text-decoration-color: #008000\">│</span>\n",
       "<span style=\"color: #008000; text-decoration-color: #008000\">│</span>  <span style=\"color: #00ff00; text-decoration-color: #00ff00\">sentiment and possibly improvements in economic conditions or sector performances. However, detailed </span>          <span style=\"color: #008000; text-decoration-color: #008000\">│</span>\n",
       "<span style=\"color: #008000; text-decoration-color: #008000\">│</span>  <span style=\"color: #00ff00; text-decoration-color: #00ff00\">information on sector-specific performance, competitor analysis, and the current buy/sell sentiment was not </span>   <span style=\"color: #008000; text-decoration-color: #008000\">│</span>\n",
       "<span style=\"color: #008000; text-decoration-color: #008000\">│</span>  <span style=\"color: #00ff00; text-decoration-color: #00ff00\">obtained in this search. Further detailed analysis would be required to provide insights into these specific </span>  <span style=\"color: #008000; text-decoration-color: #008000\">│</span>\n",
       "<span style=\"color: #008000; text-decoration-color: #008000\">│</span>  <span style=\"color: #00ff00; text-decoration-color: #00ff00\">areas. For more detailed historical performance, you can refer to sources like Macrotrends.</span>                    <span style=\"color: #008000; text-decoration-color: #008000\">│</span>\n",
       "<span style=\"color: #008000; text-decoration-color: #008000\">│</span>                                                                                                                 <span style=\"color: #008000; text-decoration-color: #008000\">│</span>\n",
       "<span style=\"color: #008000; text-decoration-color: #008000\">╰─────────────────────────────────────────────────────────────────────────────────────────────────────────────────╯</span>\n",
       "</pre>\n"
      ],
      "text/plain": [
       "\u001b[32m╭─\u001b[0m\u001b[32m────────────────────────────────────────────\u001b[0m\u001b[32m ✅ Agent Final Answer \u001b[0m\u001b[32m────────────────────────────────────────────\u001b[0m\u001b[32m─╮\u001b[0m\n",
       "\u001b[32m│\u001b[0m                                                                                                                 \u001b[32m│\u001b[0m\n",
       "\u001b[32m│\u001b[0m  \u001b[37mAgent: \u001b[0m\u001b[1;92mFINRA-Approved Financial Analyst\u001b[0m                                                                        \u001b[32m│\u001b[0m\n",
       "\u001b[32m│\u001b[0m                                                                                                                 \u001b[32m│\u001b[0m\n",
       "\u001b[32m│\u001b[0m  \u001b[37mFinal Answer:\u001b[0m                                                                                                  \u001b[32m│\u001b[0m\n",
       "\u001b[32m│\u001b[0m  \u001b[92mThe S&P 500 experienced a significant rebound in 2023, with an increase of 24.23%. This performance was a \u001b[0m     \u001b[32m│\u001b[0m\n",
       "\u001b[32m│\u001b[0m  \u001b[92mrecovery from a decline of 19.44% in 2022. The robust growth in 2023 reflects a positive shift in market \u001b[0m      \u001b[32m│\u001b[0m\n",
       "\u001b[32m│\u001b[0m  \u001b[92msentiment and possibly improvements in economic conditions or sector performances. However, detailed \u001b[0m          \u001b[32m│\u001b[0m\n",
       "\u001b[32m│\u001b[0m  \u001b[92minformation on sector-specific performance, competitor analysis, and the current buy/sell sentiment was not \u001b[0m   \u001b[32m│\u001b[0m\n",
       "\u001b[32m│\u001b[0m  \u001b[92mobtained in this search. Further detailed analysis would be required to provide insights into these specific \u001b[0m  \u001b[32m│\u001b[0m\n",
       "\u001b[32m│\u001b[0m  \u001b[92mareas. For more detailed historical performance, you can refer to sources like Macrotrends.\u001b[0m                    \u001b[32m│\u001b[0m\n",
       "\u001b[32m│\u001b[0m                                                                                                                 \u001b[32m│\u001b[0m\n",
       "\u001b[32m╰─────────────────────────────────────────────────────────────────────────────────────────────────────────────────╯\u001b[0m\n"
      ]
     },
     "metadata": {},
     "output_type": "display_data"
    },
    {
     "data": {
      "text/html": [
       "<pre style=\"white-space:pre;overflow-x:auto;line-height:normal;font-family:Menlo,'DejaVu Sans Mono',consolas,'Courier New',monospace\">\n",
       "</pre>\n"
      ],
      "text/plain": [
       "\n"
      ]
     },
     "metadata": {},
     "output_type": "display_data"
    },
    {
     "name": "stdout",
     "output_type": "stream",
     "text": [
      "================================\u001b[1m Human Message \u001b[0m=================================\n",
      "Name: web_search\n",
      "\n",
      "The S&P 500 experienced a significant rebound in 2023, with an increase of 24.23%. This performance was a recovery from a decline of 19.44% in 2022. The robust growth in 2023 reflects a positive shift in market sentiment and possibly improvements in economic conditions or sector performances. However, detailed information on sector-specific performance, competitor analysis, and the current buy/sell sentiment was not obtained in this search. Further detailed analysis would be required to provide insights into these specific areas. For more detailed historical performance, you can refer to sources like Macrotrends.\n",
      "================================\u001b[1m Human Message \u001b[0m=================================\n",
      "Name: web_search\n",
      "\n",
      "The S&P 500 experienced a significant rebound in 2023, with an increase of 24.23%. This performance was a recovery from a decline of 19.44% in 2022. The robust growth in 2023 reflects a positive shift in market sentiment and possibly improvements in economic conditions or sector performances. However, detailed information on sector-specific performance, competitor analysis, and the current buy/sell sentiment was not obtained in this search. Further detailed analysis would be required to provide insights into these specific areas. For more detailed historical performance, you can refer to sources like Macrotrends.\n"
     ]
    }
   ],
   "source": [
    "query = \"How is S&P 500 performing can you give me a summary?\"\n",
    "events = react_graph.stream(\n",
    "    {\"messages\": [(\"user\", query)]},\n",
    "    config,\n",
    "    stream_mode=\"values\",\n",
    ")\n",
    "for event in events:\n",
    "    event[\"messages\"][-1].pretty_print()"
   ]
  },
  {
   "cell_type": "code",
   "execution_count": null,
   "id": "802eac41-0776-45e8-a281-225e5fb2fe21",
   "metadata": {},
   "outputs": [],
   "source": []
  }
 ],
 "metadata": {
  "kernelspec": {
   "display_name": "ai-agents-interoperability",
   "language": "python",
   "name": "ai-agents-interoperability"
  },
  "language_info": {
   "codemirror_mode": {
    "name": "ipython",
    "version": 3
   },
   "file_extension": ".py",
   "mimetype": "text/x-python",
   "name": "python",
   "nbconvert_exporter": "python",
   "pygments_lexer": "ipython3",
   "version": "3.12.9"
  }
 },
 "nbformat": 4,
 "nbformat_minor": 5
}
